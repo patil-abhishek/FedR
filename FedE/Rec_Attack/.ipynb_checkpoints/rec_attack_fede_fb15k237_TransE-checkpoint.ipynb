{
 "cells": [
  {
   "cell_type": "code",
   "execution_count": null,
   "id": "13f28aa4",
   "metadata": {},
   "outputs": [],
   "source": [
    "import torch\n",
    "import pickle\n",
    "import numpy as np\n",
    "import random\n",
    "from scipy import spatial"
   ]
  },
  {
   "cell_type": "code",
   "execution_count": null,
   "id": "62431191",
   "metadata": {},
   "outputs": [],
   "source": [
    "emb = torch.load('./state/fb15k237_fed3_TransE.best')"
   ]
  },
  {
   "cell_type": "code",
   "execution_count": null,
   "id": "405c7f20",
   "metadata": {},
   "outputs": [],
   "source": [
    "ent_embed = emb['ent_embed']"
   ]
  },
  {
   "cell_type": "code",
   "execution_count": null,
   "id": "e9de591b",
   "metadata": {},
   "outputs": [],
   "source": [
    "rel_embed = emb['rel_embed']"
   ]
  },
  {
   "cell_type": "markdown",
   "id": "70a98ee0",
   "metadata": {},
   "source": [
    "#### ERR"
   ]
  },
  {
   "cell_type": "code",
   "execution_count": null,
   "id": "80bcf3f3",
   "metadata": {},
   "outputs": [],
   "source": [
    "data = pickle.load(open(\"FB15K237-Fed3.pkl\", \"rb\" ))"
   ]
  },
  {
   "cell_type": "code",
   "execution_count": null,
   "id": "6a0d544d",
   "metadata": {},
   "outputs": [],
   "source": [
    "c0_ent = np.unique(data[0]['train']['edge_index_ori'])\n",
    "c1_ent = np.unique(data[1]['train']['edge_index_ori'])\n",
    "c2_ent = np.unique(data[2]['train']['edge_index_ori'])"
   ]
  },
  {
   "cell_type": "code",
   "execution_count": null,
   "id": "e787b46d",
   "metadata": {},
   "outputs": [],
   "source": [
    "print(len(c0_ent), len(c1_ent), len(c2_ent))"
   ]
  },
  {
   "cell_type": "code",
   "execution_count": null,
   "id": "f4817cd4",
   "metadata": {},
   "outputs": [],
   "source": [
    "random.seed(10)\n",
    "np.random.seed(10)\n",
    "n = int(1 * len(c0_ent))\n",
    "pool = np.random.choice(c0_ent, n, replace = False)\n",
    "print(len(np.intersect1d(pool, c1_ent))/len(c1_ent))\n",
    "print(len(np.intersect1d(pool, c2_ent))/len(c2_ent))\n",
    "#pool = pool.tolist()"
   ]
  },
  {
   "cell_type": "markdown",
   "id": "c7450910",
   "metadata": {},
   "source": [
    "#### TRR"
   ]
  },
  {
   "cell_type": "code",
   "execution_count": null,
   "id": "a2b54bf0",
   "metadata": {},
   "outputs": [],
   "source": [
    "# creat entity pool of selected entities (adversary knowledge)\n",
    "c0_ent_embed_dict = {}\n",
    "value = ent_embed[[pool]]\n",
    "for idx,ent in enumerate(pool):\n",
    "    c0_ent_embed_dict[ent] = value[idx]"
   ]
  },
  {
   "cell_type": "code",
   "execution_count": null,
   "id": "0871db22",
   "metadata": {},
   "outputs": [],
   "source": []
  },
  {
   "cell_type": "code",
   "execution_count": null,
   "id": "098e8acd",
   "metadata": {},
   "outputs": [],
   "source": [
    "# creat relation pool based on selected entities\n",
    "c0_triple_all = np.array([data[0]['train']['edge_index_ori'][0], \n",
    "                          data[0]['train']['edge_type_ori'], \n",
    "                          data[0]['train']['edge_index_ori'][1]])\n",
    "\n",
    "len_c0_triple_all = c0_triple_all[0].shape[0]\n",
    "rel_pool = []\n",
    "for i in range(len_c0_triple_all):\n",
    "    triple = c0_triple_all[:,i]\n",
    "    if (triple[0] in pool) or (triple[2] in pool):\n",
    "        if triple[1] not in rel_pool:\n",
    "            rel_pool.append(triple[1])"
   ]
  },
  {
   "cell_type": "code",
   "execution_count": null,
   "id": "9a255bcc",
   "metadata": {},
   "outputs": [],
   "source": [
    "# create relation embedding dictionary\n",
    "c0_rel_embed_dict = {}\n",
    "value = rel_embed[0][[rel_pool]]\n",
    "for idx,rel in enumerate(rel_pool):\n",
    "    c0_rel_embed_dict[idx] = value[idx]"
   ]
  },
  {
   "cell_type": "code",
   "execution_count": null,
   "id": "28c4e6d5",
   "metadata": {},
   "outputs": [],
   "source": []
  },
  {
   "cell_type": "code",
   "execution_count": null,
   "id": "52364601",
   "metadata": {},
   "outputs": [],
   "source": [
    "# client 0 synthetic relation list\n",
    "syn_rel_list = [] # synthetic relation label\n",
    "\n",
    "c0_ent_all = data[0]['train']['edge_index_ori'] # entities in client 0\n",
    "\n",
    "for i in range(len(c0_ent_all[0])):\n",
    "    if (c0_ent_all[0][i] in pool) and (c0_ent_all[1][i] in pool):\n",
    "        syn_rel_embed = c0_ent_embed_dict[c0_ent_all[1][i]] - c0_ent_embed_dict[c0_ent_all[0][i]]\n",
    "        if torch.sum(syn_rel_embed) == 0:\n",
    "            syn_rel_embed += 1e-12\n",
    "        cos_loss = []\n",
    "        for j in c0_rel_embed_dict:\n",
    "            loss = spatial.distance.cosine(syn_rel_embed.cpu().detach().numpy(), c0_rel_embed_dict[j].cpu().detach().numpy())\n",
    "            cos_loss.append(loss)\n",
    "        rel_idx_in_lst = cos_loss.index(min(cos_loss))\n",
    "        rel_idx = rel_pool[rel_idx_in_lst]\n",
    "        syn_rel_list.append(rel_idx)"
   ]
  },
  {
   "cell_type": "code",
   "execution_count": null,
   "id": "2fa1411e",
   "metadata": {},
   "outputs": [],
   "source": [
    "tru_rel_list = []\n",
    "for i in range(len_c0_triple_all):\n",
    "    triple = c0_triple_all[:,i]\n",
    "    if (triple[0] in pool) and (triple[2] in pool):\n",
    "        tru_rel_list.append(triple[1])"
   ]
  },
  {
   "cell_type": "code",
   "execution_count": null,
   "id": "fe142f33",
   "metadata": {},
   "outputs": [],
   "source": [
    "# calculate the number of correct reconstruction\n",
    "sum(first == second for (first, second) in zip(syn_rel_list, tru_rel_list)) / len_c0_triple_all"
   ]
  },
  {
   "cell_type": "code",
   "execution_count": null,
   "id": "651d9233",
   "metadata": {},
   "outputs": [],
   "source": []
  },
  {
   "cell_type": "code",
   "execution_count": null,
   "id": "9e920884",
   "metadata": {},
   "outputs": [],
   "source": [
    "# client 1 synthetic relation list\n",
    "syn_rel_list = [] # synthetic relation label\n",
    "# ent_list = [] # store entity index for calculate the reconstruction\n",
    "\n",
    "c1_ent_all = data[1]['train']['edge_index_ori'] # entities in client 1\n",
    "\n",
    "for i in range(len(c1_ent_all[0])):\n",
    "    if (c1_ent_all[0][i] in pool) and (c1_ent_all[1][i] in pool):\n",
    "        syn_rel_embed = c0_ent_embed_dict[c1_ent_all[1][i]] - c0_ent_embed_dict[c1_ent_all[0][i]]\n",
    "        cos_loss = []\n",
    "        for j in c0_rel_embed_dict:\n",
    "            loss = spatial.distance.cosine(syn_rel_embed.cpu().detach().numpy(), c0_rel_embed_dict[j].cpu().detach().numpy())\n",
    "            cos_loss.append(loss)\n",
    "        rel_idx_in_lst = cos_loss.index(min(cos_loss))\n",
    "        rel_idx = rel_pool[rel_idx_in_lst]\n",
    "        syn_rel_list.append(rel_idx)"
   ]
  },
  {
   "cell_type": "code",
   "execution_count": null,
   "id": "d9b6e27b",
   "metadata": {},
   "outputs": [],
   "source": [
    "# client 1 ground-truth relation list\n",
    "c1_triple_all = np.array([data[1]['train']['edge_index_ori'][0], \n",
    "                          data[1]['train']['edge_type_ori'], \n",
    "                          data[1]['train']['edge_index_ori'][1]])\n",
    "\n",
    "len_c1_triple_all = c1_triple_all[0].shape[0]\n",
    "tru_rel_list = []\n",
    "for i in range(len_c1_triple_all):\n",
    "    triple = c1_triple_all[:,i]\n",
    "    if (triple[0] in pool) and (triple[2] in pool):\n",
    "        tru_rel_list.append(triple[1])"
   ]
  },
  {
   "cell_type": "code",
   "execution_count": null,
   "id": "0ddcae65",
   "metadata": {},
   "outputs": [],
   "source": [
    "# calculate the number of correct reconstruction\n",
    "sum(first == second for (first, second) in zip(syn_rel_list, tru_rel_list)) / len_c1_triple_all"
   ]
  },
  {
   "cell_type": "code",
   "execution_count": null,
   "id": "8b12a59b",
   "metadata": {},
   "outputs": [],
   "source": []
  },
  {
   "cell_type": "code",
   "execution_count": null,
   "id": "abf8fd82",
   "metadata": {},
   "outputs": [],
   "source": [
    "# client 2 synthetic relation list\n",
    "syn_rel_list = [] # synthetic relation label\n",
    "# ent_list = [] # store entity index for calculate the reconstruction\n",
    "\n",
    "c2_ent_all = data[2]['train']['edge_index_ori'] # entities in client 2\n",
    "\n",
    "for i in range(len(c2_ent_all[0])):\n",
    "    if (c2_ent_all[0][i] in pool) and (c2_ent_all[1][i] in pool):\n",
    "        syn_rel_embed = c0_ent_embed_dict[c2_ent_all[1][i]] - c0_ent_embed_dict[c2_ent_all[0][i]]\n",
    "        cos_loss = []\n",
    "        for j in c0_rel_embed_dict:\n",
    "            loss = spatial.distance.cosine(syn_rel_embed.cpu().detach().numpy(), c0_rel_embed_dict[j].cpu().detach().numpy())\n",
    "            cos_loss.append(loss)\n",
    "        rel_idx_in_lst = cos_loss.index(min(cos_loss))\n",
    "        rel_idx = rel_pool[rel_idx_in_lst]\n",
    "        syn_rel_list.append(rel_idx)"
   ]
  },
  {
   "cell_type": "code",
   "execution_count": null,
   "id": "38c404c7",
   "metadata": {},
   "outputs": [],
   "source": [
    "# client 2 ground-truth relation list\n",
    "c2_triple_all = np.array([data[2]['train']['edge_index_ori'][0], \n",
    "                          data[2]['train']['edge_type_ori'], \n",
    "                          data[2]['train']['edge_index_ori'][1]])\n",
    "\n",
    "len_c2_triple_all = c2_triple_all[0].shape[0]\n",
    "tru_rel_list = []\n",
    "for i in range(len_c2_triple_all):\n",
    "    triple = c2_triple_all[:,i]\n",
    "    if (triple[0] in pool) and (triple[2] in pool):\n",
    "        tru_rel_list.append(triple[1])"
   ]
  },
  {
   "cell_type": "code",
   "execution_count": null,
   "id": "5058362c",
   "metadata": {},
   "outputs": [],
   "source": [
    "# calculate the number of correct reconstruction\n",
    "sum(first == second for (first, second) in zip(syn_rel_list, tru_rel_list)) / len_c2_triple_all"
   ]
  },
  {
   "cell_type": "code",
   "execution_count": null,
   "id": "c67d3683",
   "metadata": {},
   "outputs": [],
   "source": []
  }
 ],
 "metadata": {
  "kernelspec": {
   "display_name": "Python 3",
   "language": "python",
   "name": "python3"
  },
  "language_info": {
   "codemirror_mode": {
    "name": "ipython",
    "version": 3
   },
   "file_extension": ".py",
   "mimetype": "text/x-python",
   "name": "python",
   "nbconvert_exporter": "python",
   "pygments_lexer": "ipython3",
   "version": "3.8.8"
  }
 },
 "nbformat": 4,
 "nbformat_minor": 5
}
