{
 "cells": [
  {
   "cell_type": "code",
   "execution_count": 1,
   "metadata": {},
   "outputs": [],
   "source": [
    "#%matplotlib inline\n",
    "import os\n",
    "import random\n",
    "import numpy as np\n",
    "from collections import defaultdict as ddict\n",
    "from tqdm import tqdm\n",
    "import pickle\n",
    "import random"
   ]
  },
  {
   "cell_type": "code",
   "execution_count": 2,
   "metadata": {},
   "outputs": [],
   "source": [
    "# Hyperparameters\n",
    "data_name = \"WN18RR\"\n",
    "num_client = 5\n",
    "file_path = \"./data/\" + data_name + \"/\"\n",
    "folder_name = \"Fed_data/\"\n",
    "file_name = folder_name + data_name + \"-Fed\" + str(num_client) + \".pkl\""
   ]
  },
  {
   "cell_type": "code",
   "execution_count": 3,
   "metadata": {},
   "outputs": [],
   "source": [
    "def load_data(file_path):\n",
    "\n",
    "    print(\"load data from {}\".format(file_path))\n",
    "\n",
    "    with open(os.path.join(file_path, 'entities.dict')) as f:\n",
    "        entity2id = dict()\n",
    "\n",
    "        for line in f:\n",
    "            eid, entity = line.strip().split('\\t')\n",
    "            entity2id[entity] = int(eid)\n",
    "\n",
    "    with open(os.path.join(file_path, 'relations.dict')) as f:\n",
    "        relation2id = dict()\n",
    "\n",
    "        for line in f:\n",
    "            rid, relation = line.strip().split('\\t')\n",
    "            relation2id[relation] = int(rid)\n",
    "\n",
    "    train_triplets = read_triplets(os.path.join(file_path, 'train.txt'), entity2id, relation2id)\n",
    "    valid_triplets = read_triplets(os.path.join(file_path, 'valid.txt'), entity2id, relation2id)\n",
    "    test_triplets = read_triplets(os.path.join(file_path, 'test.txt'), entity2id, relation2id)\n",
    "\n",
    "    print('num_entity: {}'.format(len(entity2id)))\n",
    "    print('num_relation: {}'.format(len(relation2id)))\n",
    "    print('num_train_triples: {}'.format(len(train_triplets)))\n",
    "    print('num_valid_triples: {}'.format(len(valid_triplets)))\n",
    "    print('num_test_triples: {}'.format(len(test_triplets)))\n",
    "\n",
    "    return entity2id, relation2id, train_triplets, valid_triplets, test_triplets\n",
    "\n",
    "def read_triplets(file_path, entity2id, relation2id):\n",
    "    triplets = []\n",
    "\n",
    "    with open(file_path) as f:\n",
    "        for line in f:\n",
    "            head, relation, tail = line.strip().split('\\t')\n",
    "            triplets.append((entity2id[head], relation2id[relation], entity2id[tail]))\n",
    "\n",
    "    return np.array(triplets)"
   ]
  },
  {
   "cell_type": "code",
   "execution_count": 4,
   "metadata": {},
   "outputs": [
    {
     "name": "stdout",
     "output_type": "stream",
     "text": [
      "load data from ./data/WN18RR/\n",
      "num_entity: 40943\n",
      "num_relation: 11\n",
      "num_train_triples: 86835\n",
      "num_valid_triples: 3034\n",
      "num_test_triples: 3134\n"
     ]
    }
   ],
   "source": [
    "entity2id, relation2id, train_triplets, valid_triplets, test_triplets = load_data(file_path)"
   ]
  },
  {
   "cell_type": "code",
   "execution_count": 5,
   "metadata": {},
   "outputs": [],
   "source": [
    "random.seed(12345)\n",
    "# concat all tripes \n",
    "triples = np.concatenate((train_triplets, valid_triplets), axis = 0)\n",
    "triples = np.concatenate((triples, test_triplets), axis = 0)\n",
    "\n",
    "# shuffle the tripes\n",
    "np.random.shuffle(triples)"
   ]
  },
  {
   "cell_type": "code",
   "execution_count": 6,
   "metadata": {},
   "outputs": [],
   "source": [
    "# random split triples into client\n",
    "# client_tripes = [[] for i in range(num_client)]\n",
    "client_triples = np.array_split(triples, num_client)\n",
    "for idx, val in enumerate(client_triples):\n",
    "    client_triples[idx] = client_triples[idx].tolist()"
   ]
  },
  {
   "cell_type": "code",
   "execution_count": 7,
   "metadata": {},
   "outputs": [
    {
     "name": "stderr",
     "output_type": "stream",
     "text": [
      "100%|█████████████████████████████████████████████| 5/5 [00:00<00:00,  7.92it/s]\n"
     ]
    }
   ],
   "source": [
    "# split train/valid/test in client\n",
    "client_data = []\n",
    "\n",
    "for client_idx in tqdm(range(num_client)):\n",
    "    all_triples = client_triples[client_idx]\n",
    "\n",
    "    triples_reidx = []\n",
    "    ent_reidx = dict()\n",
    "    rel_reidx = dict()\n",
    "    entidx = 0\n",
    "    relidx = 0\n",
    "\n",
    "    ent_freq = ddict(int)\n",
    "    rel_freq = ddict(int)\n",
    "\n",
    "    for tri in all_triples:\n",
    "        h, r, t = tri\n",
    "        ent_freq[h] += 1\n",
    "        ent_freq[t] += 1\n",
    "        rel_freq[r] += 1\n",
    "        if h not in ent_reidx.keys():\n",
    "            ent_reidx[h] = entidx\n",
    "            entidx += 1\n",
    "        if t not in ent_reidx.keys():\n",
    "            ent_reidx[t] = entidx\n",
    "            entidx += 1\n",
    "        if r not in rel_reidx.keys():\n",
    "            rel_reidx[r] = relidx\n",
    "            relidx += 1\n",
    "        triples_reidx.append([h, r, t, ent_reidx[h], rel_reidx[r], ent_reidx[t]])\n",
    "\n",
    "    client_train_triples = []\n",
    "    client_valid_triples = []\n",
    "    client_test_triples = []\n",
    "\n",
    "    random.shuffle(triples_reidx)\n",
    "    for idx, tri in enumerate(triples_reidx):\n",
    "        h, r, t, _, _, _ = tri\n",
    "        if ent_freq[h] > 2 and ent_freq[t] > 2 and rel_freq[r] > 2:\n",
    "            client_test_triples.append(tri)\n",
    "            ent_freq[h] -= 1\n",
    "            ent_freq[t] -= 1\n",
    "            rel_freq[r] -= 1\n",
    "        else:\n",
    "            client_train_triples.append(tri)\n",
    "        if len(client_test_triples) > int(len(triples_reidx) * 0.2):\n",
    "            break\n",
    "    client_train_triples.extend(triples_reidx[idx+1:])\n",
    "\n",
    "    random.shuffle(client_test_triples)\n",
    "    test_len = len(client_test_triples)\n",
    "    client_valid_triples = client_test_triples[:int(test_len/2)]\n",
    "    client_test_triples = client_test_triples[int(test_len/2):] \n",
    "\n",
    "    train_edge_index_ori = np.array(client_train_triples)[:, [0, 2]].T\n",
    "    train_edge_type_ori = np.array(client_train_triples)[:, 1].T\n",
    "    train_edge_index = np.array(client_train_triples)[:, [3, 5]].T\n",
    "    train_edge_type = np.array(client_train_triples)[:, 4].T\n",
    "\n",
    "    valid_edge_index_ori = np.array(client_valid_triples)[:, [0, 2]].T\n",
    "    valid_edge_type_ori = np.array(client_valid_triples)[:, 1].T\n",
    "    valid_edge_index = np.array(client_valid_triples)[:, [3, 5]].T\n",
    "    valid_edge_type = np.array(client_valid_triples)[:, 4].T\n",
    "\n",
    "    test_edge_index_ori = np.array(client_test_triples)[:, [0, 2]].T\n",
    "    test_edge_type_ori = np.array(client_test_triples)[:, 1].T\n",
    "    test_edge_index = np.array(client_test_triples)[:, [3, 5]].T\n",
    "    test_edge_type = np.array(client_test_triples)[:, 4].T\n",
    "\n",
    "    client_data_dict = {'train': {'edge_index': train_edge_index, 'edge_type': train_edge_type, \n",
    "                          'edge_index_ori': train_edge_index_ori, 'edge_type_ori': train_edge_type_ori},\n",
    "                'test': {'edge_index': test_edge_index, 'edge_type': test_edge_type, \n",
    "                         'edge_index_ori': test_edge_index_ori, 'edge_type_ori': test_edge_type_ori},\n",
    "                'valid': {'edge_index': valid_edge_index, 'edge_type': valid_edge_type, \n",
    "                      'edge_index_ori': valid_edge_index_ori, 'edge_type_ori': valid_edge_type_ori}}\n",
    "\n",
    "    client_data.append(client_data_dict)"
   ]
  },
  {
   "cell_type": "code",
   "execution_count": 8,
   "metadata": {},
   "outputs": [],
   "source": [
    "# save dataset\n",
    "pickle.dump(client_data, open(file_name, 'wb'))"
   ]
  },
  {
   "cell_type": "markdown",
   "metadata": {},
   "source": [
    "#### Check the statistics of dataset"
   ]
  },
  {
   "cell_type": "code",
   "execution_count": 9,
   "metadata": {},
   "outputs": [],
   "source": [
    "a = train_triplets[:,0]\n",
    "a = np.append(a, train_triplets[:,2])\n",
    "a =  np.unique(a)\n",
    "\n",
    "b = valid_triplets[:,0]\n",
    "b = np.append(b, valid_triplets[:,2])\n",
    "b =  np.unique(b)\n",
    "\n",
    "c = test_triplets[:,0]\n",
    "c = np.append(c, test_triplets[:,2])\n",
    "c =  np.unique(c)"
   ]
  },
  {
   "cell_type": "code",
   "execution_count": 10,
   "metadata": {},
   "outputs": [
    {
     "name": "stdout",
     "output_type": "stream",
     "text": [
      "40559 5173 5323\n"
     ]
    }
   ],
   "source": [
    "print(len(a), len(b), len(c))"
   ]
  },
  {
   "cell_type": "code",
   "execution_count": 11,
   "metadata": {},
   "outputs": [
    {
     "name": "stdout",
     "output_type": "stream",
     "text": [
      "11 11 11\n"
     ]
    }
   ],
   "source": [
    "e = train_triplets[:,1]\n",
    "e =  np.unique(e)\n",
    "\n",
    "f = valid_triplets[:,1] \n",
    "f =  np.unique(f)\n",
    "\n",
    "g = test_triplets[:,1]\n",
    "g =  np.unique(g)\n",
    "\n",
    "print(len(e), len(f), len(g))"
   ]
  },
  {
   "cell_type": "code",
   "execution_count": 12,
   "metadata": {},
   "outputs": [
    {
     "data": {
      "text/plain": [
       "40943"
      ]
     },
     "execution_count": 12,
     "metadata": {},
     "output_type": "execute_result"
    }
   ],
   "source": [
    "h = np.setdiff1d(b, a)\n",
    "h = np.append(h,np.setdiff1d(c, a))\n",
    "h = np.unique(h)\n",
    "len(h) + len(a)"
   ]
  },
  {
   "cell_type": "code",
   "execution_count": null,
   "metadata": {},
   "outputs": [],
   "source": []
  }
 ],
 "metadata": {
  "kernelspec": {
   "display_name": "Python 3",
   "language": "python",
   "name": "python3"
  },
  "language_info": {
   "codemirror_mode": {
    "name": "ipython",
    "version": 3
   },
   "file_extension": ".py",
   "mimetype": "text/x-python",
   "name": "python",
   "nbconvert_exporter": "python",
   "pygments_lexer": "ipython3",
   "version": "3.9.7"
  }
 },
 "nbformat": 4,
 "nbformat_minor": 4
}
